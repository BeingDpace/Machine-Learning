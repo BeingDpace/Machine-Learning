{
 "cells": [
  {
   "cell_type": "markdown",
   "metadata": {},
   "source": [
    "NAME: DEEPESH BHATTA\n",
    "    \n"
   ]
  },
  {
   "cell_type": "markdown",
   "metadata": {},
   "source": [
    "## 2.5 (10pts) Let’s try out classification together with the PCA. For this question, you may use built-in functions or libraries. Use Logistic Regression with 10 output nodes with softmax function as the classifier. First, train a classifier using the raw images for 10 epochs and measure the training time. Then, train a classifier for 10 epochs using transformed data with 30 PCs, i.e., project each image to a 30-D space using the 30 PCs and train the classifier, and measure the training time. How much improvement in the training time? How are their performances on the testing set? Explain your thoughts."
   ]
  },
  {
   "cell_type": "code",
   "execution_count": 18,
   "metadata": {},
   "outputs": [],
   "source": [
    "import keras\n",
    "from keras.models import Sequential\n",
    "from keras.layers import Dense\n",
    "from sklearn.datasets import fetch_openml\n",
    "from sklearn.model_selection import train_test_split\n",
    "from keras.regularizers import L1L2"
   ]
  },
  {
   "cell_type": "code",
   "execution_count": 19,
   "metadata": {},
   "outputs": [],
   "source": [
    "dataset = fetch_openml('mnist_784')\n",
    "X = dataset.data\n",
    "y = dataset.target"
   ]
  },
  {
   "cell_type": "code",
   "execution_count": 20,
   "metadata": {},
   "outputs": [],
   "source": [
    "X_train, X_test, y_train, y_test = train_test_split(\n",
    "    X, y, test_size=10000)"
   ]
  },
  {
   "cell_type": "code",
   "execution_count": 21,
   "metadata": {},
   "outputs": [],
   "source": [
    "from keras.utils import to_categorical\n",
    "num_classes = 10\n",
    "y_train = to_categorical(y_train, num_classes)\n",
    "y_test = to_categorical(y_test, num_classes)"
   ]
  },
  {
   "cell_type": "code",
   "execution_count": 22,
   "metadata": {},
   "outputs": [
    {
     "name": "stdout",
     "output_type": "stream",
     "text": [
      "Model: \"sequential_3\"\n",
      "_________________________________________________________________\n",
      "Layer (type)                 Output Shape              Param #   \n",
      "=================================================================\n",
      "dense_3 (Dense)              (None, 10)                7850      \n",
      "=================================================================\n",
      "Total params: 7,850\n",
      "Trainable params: 7,850\n",
      "Non-trainable params: 0\n",
      "_________________________________________________________________\n"
     ]
    }
   ],
   "source": [
    "#Logistic Regression Model - A single-layer densely connected network, L2 regularization with coefficient 0.1\n",
    "model = Sequential()\n",
    "model.add(Dense(10,input_shape= (X_train.shape[1],), activation='softmax', kernel_regularizer=L1L2(l1=0.0, l2=0.1)))\n",
    "model.compile(optimizer='sgd', loss='binary_crossentropy', metrics=['accuracy'])\n",
    "model.summary()"
   ]
  },
  {
   "cell_type": "code",
   "execution_count": 23,
   "metadata": {},
   "outputs": [
    {
     "name": "stdout",
     "output_type": "stream",
     "text": [
      "Epoch 1/10\n",
      "469/469 [==============================] - 0s 1ms/step - loss: 2.4773 - accuracy: 0.4930\n",
      "Epoch 2/10\n",
      "469/469 [==============================] - 0s 990us/step - loss: 1.1493 - accuracy: 0.7071\n",
      "Epoch 3/10\n",
      "469/469 [==============================] - 0s 915us/step - loss: 0.9051 - accuracy: 0.7593\n",
      "Epoch 4/10\n",
      "469/469 [==============================] - 0s 980us/step - loss: 0.6473 - accuracy: 0.8393\n",
      "Epoch 5/10\n",
      "469/469 [==============================] - 0s 963us/step - loss: 0.6423 - accuracy: 0.8391\n",
      "Epoch 6/10\n",
      "469/469 [==============================] - 0s 962us/step - loss: 0.6573 - accuracy: 0.8360\n",
      "Epoch 7/10\n",
      "469/469 [==============================] - 0s 998us/step - loss: 0.6517 - accuracy: 0.8389\n",
      "Epoch 8/10\n",
      "469/469 [==============================] - 0s 1ms/step - loss: 0.6396 - accuracy: 0.8419\n",
      "Epoch 9/10\n",
      "469/469 [==============================] - 0s 971us/step - loss: 0.6369 - accuracy: 0.8415\n",
      "Epoch 10/10\n",
      "469/469 [==============================] - 0s 965us/step - loss: 0.6517 - accuracy: 0.8374\n",
      "Training Time :  4972.2826 ms\n",
      "Testing Accuracy:  85.4099988937378 %\n"
     ]
    }
   ],
   "source": [
    "import time\n",
    "batch_size = 128\n",
    "tik = time.time()\n",
    "model.fit(X_train, y_train, batch_size=batch_size ,epochs=10, verbose=1)\n",
    "tok = time.time()\n",
    "score = model.evaluate(X_test, y_test, verbose=0)\n",
    "RunningTime =\"{0:.4f}\".format(1000 * (tok - tik))\n",
    "print(\"Training Time : \",RunningTime, \"ms\")\n",
    "print('Testing Accuracy: ', score[1]*100,\"%\")"
   ]
  },
  {
   "cell_type": "code",
   "execution_count": 24,
   "metadata": {},
   "outputs": [],
   "source": [
    "from PCA import PCA\n",
    "X_pca = PCA(X, 30)\n",
    "y = to_categorical(y, num_classes)\n",
    "X_train_pca = X_pca[:60000]\n",
    "y_train_pca = y[:60000]\n",
    "X_test_pca = X_pca[60000:]\n",
    "y_test_pca = y[60000:]"
   ]
  },
  {
   "cell_type": "code",
   "execution_count": 25,
   "metadata": {},
   "outputs": [
    {
     "name": "stdout",
     "output_type": "stream",
     "text": [
      "Model: \"sequential_4\"\n",
      "_________________________________________________________________\n",
      "Layer (type)                 Output Shape              Param #   \n",
      "=================================================================\n",
      "dense_4 (Dense)              (None, 10)                310       \n",
      "=================================================================\n",
      "Total params: 310\n",
      "Trainable params: 310\n",
      "Non-trainable params: 0\n",
      "_________________________________________________________________\n"
     ]
    }
   ],
   "source": [
    "#Logistic Regression Model - A single-layer densely connected network, L2 regularization with coefficient 0.1\n",
    "model_pca= Sequential()\n",
    "model_pca.add(Dense(10,input_shape= (X_pca.shape[1],), activation='softmax', kernel_regularizer=L1L2(l1=0.0, l2=0.1)))\n",
    "model_pca.compile(optimizer='sgd', loss='binary_crossentropy', metrics=['accuracy'])\n",
    "model_pca.summary()"
   ]
  },
  {
   "cell_type": "code",
   "execution_count": 26,
   "metadata": {},
   "outputs": [
    {
     "name": "stdout",
     "output_type": "stream",
     "text": [
      "Epoch 1/10\n",
      "  1/469 [..............................] - ETA: 0s - loss: 4.2434 - accuracy: 0.0938WARNING:tensorflow:Callbacks method `on_train_batch_begin` is slow compared to the batch time (batch time: 0.0000s vs `on_train_batch_begin` time: 0.0010s). Check your callbacks.\n",
      "469/469 [==============================] - 0s 639us/step - loss: 2.3467 - accuracy: 0.4460\n",
      "Epoch 2/10\n",
      "469/469 [==============================] - 0s 617us/step - loss: 0.6096 - accuracy: 0.8338\n",
      "Epoch 3/10\n",
      "469/469 [==============================] - 0s 621us/step - loss: 0.4969 - accuracy: 0.8459\n",
      "Epoch 4/10\n",
      "469/469 [==============================] - 0s 622us/step - loss: 0.5039 - accuracy: 0.8417\n",
      "Epoch 5/10\n",
      "469/469 [==============================] - 0s 622us/step - loss: 0.5030 - accuracy: 0.8425\n",
      "Epoch 6/10\n",
      "469/469 [==============================] - 0s 620us/step - loss: 0.5037 - accuracy: 0.8410\n",
      "Epoch 7/10\n",
      "469/469 [==============================] - 0s 619us/step - loss: 0.4995 - accuracy: 0.8437\n",
      "Epoch 8/10\n",
      "469/469 [==============================] - 0s 616us/step - loss: 0.4946 - accuracy: 0.8453\n",
      "Epoch 9/10\n",
      "469/469 [==============================] - 0s 620us/step - loss: 0.4969 - accuracy: 0.8444\n",
      "Epoch 10/10\n",
      "469/469 [==============================] - 0s 608us/step - loss: 0.5045 - accuracy: 0.8415\n",
      "Training Time with PCA : 3249.8738765716553ms\n",
      "Testing Accuracy with PCA:  86.39000058174133 %\n"
     ]
    }
   ],
   "source": [
    "import time\n",
    "tik_pca = time.time()\n",
    "model_pca.fit(X_train_pca, y_train_pca, batch_size=batch_size ,epochs=10, verbose=1)\n",
    "tok_pca = time.time()\n",
    "score_pca = model_pca.evaluate(X_test_pca, y_test_pca, verbose=0)\n",
    "RunningTime =\"{0:.4f}\".format(1000 * (tok_pca - tik_pca))\n",
    "print(\"Training Time with PCA : \" + str(1000 * (tok_pca - tik_pca)) + \"ms\")\n",
    "print('Testing Accuracy with PCA: ', score_pca[1]*100,\"%\")"
   ]
  },
  {
   "cell_type": "markdown",
   "metadata": {},
   "source": [
    "## 2.6 (10pts) What do Neural Networks learn? Let’s take a look at the pre-trained Logistic Regression model using the raw data. Each output node has 784 weights associated with it. Reshape the weights to an 28x28 image; do this for the all output nodes and visualize each of them. Any interesting shapes? What do they represent? How do they differ from the features learned from PCA (from Q4)? Explain your thoughts."
   ]
  },
  {
   "cell_type": "code",
   "execution_count": 27,
   "metadata": {},
   "outputs": [
    {
     "data": {
      "image/png": "[encoded data removed]",
      "text/plain": [
       "<Figure size 720x720 with 10 Axes>"
      ]
     },
     "metadata": {
      "needs_background": "light"
     },
     "output_type": "display_data"
    }
   ],
   "source": [
    "import matplotlib.pyplot as plt\n",
    "from math import sqrt\n",
    "import numpy as np\n",
    "images = []\n",
    "weight = (model.layers[0].get_weights()[0]+model.layers[0].get_weights()[1]).T\n",
    "#generates matplotlib figure of size 10x10\n",
    "fig = plt.figure(figsize=(10,10))\n",
    "#iterates over each node\n",
    "for i in range(10):\n",
    "    #Reshape from (784,) to (28,28) and normalizes values\n",
    "    weight[i] -= weight[i].min()\n",
    "    weight[i] *= 255.0/weight[i].max()\n",
    "    weight[i] = weight[i].astype(int)\n",
    "    images.append([])\n",
    "    for j in range(0,784,28):\n",
    "        images[i].append(np.array(weight[i][j:j+28]))\n",
    "    # adds a subplot to figure\n",
    "    g=fig.add_subplot(4,5,i+1)\n",
    "    # displays image on figure\n",
    "    plt.imshow(images[i], interpolation='nearest')\n",
    "    # sets title of image to node #\n",
    "    g.set_title(str(i),size=20)\n",
    "    # hides axis labels \n",
    "    plt.axis(\"off\")"
   ]
  }
 ],
 "metadata": {
  "kernelspec": {
   "display_name": "Python 3",
   "language": "python",
   "name": "python3"
  },
  "language_info": {
   "codemirror_mode": {
    "name": "ipython",
    "version": 3
   },
   "file_extension": ".py",
   "mimetype": "text/x-python",
   "name": "python",
   "nbconvert_exporter": "python",
   "pygments_lexer": "ipython3",
   "version": "3.8.5"
  }
 },
 "nbformat": 4,
 "nbformat_minor": 4
}
