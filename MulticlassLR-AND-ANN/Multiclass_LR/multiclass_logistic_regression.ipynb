{
 "cells": [
  {
   "cell_type": "markdown",
   "metadata": {},
   "source": [
    "NAME: DEEPESH BHATTA\n",
    "\n",
    "UTA_ID: 1001837305"
   ]
  },
  {
   "cell_type": "markdown",
   "metadata": {},
   "source": [
    "## Problem 2\n",
    "(Multi-class classification, 30pts) Implement multi-class logistic regression using a soft-max function and\n",
    "cross entropy. Use MNIST data for your training and testing data. The dataset has 60000 training and\n",
    "10000 test samples that contain images of hand-written numbers in 28x28 pixels. There are various sources\n",
    "you can find online to fetch the data.\n",
    "Please use the images within class 0 to 4 (i.e., 5 classes) only, you can do this by checking the labels given\n",
    "to each image. Set the maximum number of iterations to 10000. Print out accuracy, precision and recall at\n",
    "the end to evaluate your implementation, and write up a brief summary in your report.\n"
   ]
  },
  {
   "cell_type": "code",
   "execution_count": 1,
   "metadata": {},
   "outputs": [],
   "source": [
    "from multiclass_logistic_regression import load_data, convert_to_one_hot, logistic_regression, calc_metrics"
   ]
  },
  {
   "cell_type": "code",
   "execution_count": 2,
   "metadata": {},
   "outputs": [
    {
     "name": "stdout",
     "output_type": "stream",
     "text": [
      "Confusion Matrix: \n",
      " [[972.   0. 134.  71. 110.]\n",
      " [  0. 981.   1.   0.   8.]\n",
      " [  2.  91. 784.  26.  47.]\n",
      " [  6.  63. 104. 910.  71.]\n",
      " [  0.   0.   9.   3. 746.]]\n",
      "Precision: 0.8553\n",
      "Recall: 0.8688\n",
      "Accuracy: 85.48 %\n"
     ]
    }
   ],
   "source": [
    "# 10000 iterations takes too long to run\n",
    "steps = 10000\n",
    "learning_rate = 0.001\n",
    "train_data, train_labels, test_data, test_labels = load_data()\n",
    "train_labels = convert_to_one_hot(train_labels)\n",
    "weights = logistic_regression(train_data, train_labels, steps, learning_rate)\n",
    "acc, predictions, confusion_matrix, precision, recall = calc_metrics(test_data, test_labels, weights)\n",
    "print(\"Confusion Matrix: \\n\", confusion_matrix)\n",
    "print(\"Precision: \" + repr(round(precision, 4)))\n",
    "print(\"Recall: \" + repr(round(recall, 4)))\n",
    "print(\"Accuracy: \" + repr(round(acc/len(test_data), 4) * 100) + \" %\")       "
   ]
  },
  {
   "cell_type": "code",
   "execution_count": null,
   "metadata": {},
   "outputs": [],
   "source": []
  }
 ],
 "metadata": {
  "kernelspec": {
   "display_name": "Python 3",
   "language": "python",
   "name": "python3"
  },
  "language_info": {
   "codemirror_mode": {
    "name": "ipython",
    "version": 3
   },
   "file_extension": ".py",
   "mimetype": "text/x-python",
   "name": "python",
   "nbconvert_exporter": "python",
   "pygments_lexer": "ipython3",
   "version": "3.8.5"
  }
 },
 "nbformat": 4,
 "nbformat_minor": 4
}
